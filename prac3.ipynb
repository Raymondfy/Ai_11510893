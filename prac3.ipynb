{
 "cells": [
  {
   "cell_type": "markdown",
   "metadata": {},
   "source": [
    "# Introduction to Artificial Intelligence for Non Computing"
   ]
  },
  {
   "cell_type": "markdown",
   "metadata": {},
   "source": [
    "## Practical 3 (weeks 5 - 6)"
   ]
  },
  {
   "cell_type": "markdown",
   "metadata": {},
   "source": [
    "The following links provide additional information about data analysis , machine learning and Numpy"
   ]
  },
  {
   "cell_type": "markdown",
   "metadata": {},
   "source": [
    "Python data analysis: https://www.imooc.com/learn/843\n",
    "machine learning: https://www.imooc.com/learn/717\n",
    "Numpy :https://www.imooc.com/learn/943"
   ]
  },
  {
   "cell_type": "markdown",
   "metadata": {},
   "source": [
    "#### Theory Questions"
   ]
  },
  {
   "cell_type": "markdown",
   "metadata": {},
   "source": [
    "1\\.Which of the following are true and which are false? Give brief explanations.\n",
    "- a. In a fully observable, turn-taking, zero-sum game between two perfectly rational players,it does not help the first player to know what strategy the second player is using—that is, what move the second player will make, given the first player's move.\n",
    "- b. In a partially observable, turn-taking, zero-sum game between two perfectly rational players, it does not help the first player to know what move the second player will make, given the first player's move.\n",
    "- c. A perfectly rational backgammon agent never loses.\n",
    "\n",
    "See textbook Chapter6 24.6"
   ]
  },
  {
   "cell_type": "markdown",
   "metadata": {},
   "source": [
    "_your answer here..._ \n",
    "*** \n",
    "#### a:True. The second player will always play optimally, which means knowing the second player's strategy won't contribute to the first player.\n",
    "\n",
    "#### b:False. Because in a partially observable game, if the first player knows the second player’s move, then the first player will know the game state better. \n",
    "\n",
    "#### c:False. Because Backgammon is a game of chance, opponent always has the possibility to have a btter score.\n"
   ]
  },
  {
   "cell_type": "markdown",
   "metadata": {},
   "source": [
    "2\\.Define in your own words the terms constraint, backtracking search, arc consistency,backjumping, min-conflicts, and cycle cutset.\n",
    "\n",
    "See textbook Chapter6 6.16"
   ]
  },
  {
   "cell_type": "markdown",
   "metadata": {},
   "source": [
    "_your answer here..._ \n",
    "*** \n",
    "constraint：A restriction on the possible values of variables.\n",
    "\n",
    "backtracking search: Belongs to depth-first search (DFS). For a certain search tree, backtracking and DFS's difference is that backtracking method is not in the solution process. The complete tree structure is preserved, while the depth-first search records the complete search tree.\n",
    "\n",
    "arc consistency: A directed arc from variable A to variable B in a CSP is arc consistent when for every value in the current domain of A, there is some consistent value of B.\n",
    "\n",
    "backjumping:Backjumping is a way of making backtracking search more efficient, by jumping back more than one level when a dead end is reached. Min-conflicts is a heuristic for use with local search on CSP problems. The heuristic says that, when given a variable to modify, choose the value that conflicts with the fewest number of other variables.\n",
    "\n",
    "cycle cutset: A set of variables which when removed from the constraint graph make it acyclic (i.e., a tree). When the variables of a cycle cutset are instantiated the remainder of the CSP can be solved in linear time.\n"
   ]
  },
  {
   "cell_type": "markdown",
   "metadata": {},
   "source": [
    "3\\.Explain why it is a good heuristic to choose the variable that is most constrained but the value that is least constraining in a CSP search.\n",
    "\n",
    "See textbook Chapter6 6.9"
   ]
  },
  {
   "cell_type": "markdown",
   "metadata": {},
   "source": [
    "_your answer here..._ \n",
    "\n",
    "*** \n",
    "- The most constrained variable makes sense because it chooses a variable that is (all other things being equal) likely to cause a failure, and it is more efficient to fail as early as possible  (thereby pruning large parts of the search space). The least constraining value heuristic makes sense because it allows the most chances for future assignments to avoid conflict.\n",
    "\n"
   ]
  },
  {
   "cell_type": "markdown",
   "metadata": {},
   "source": [
    "4\\.Consider the following procedure for choosing moves in games with chance nodes: \n",
    "- 1、Generate some dice-roll sequences (say, 50) down to a suitable depth (say, 8).\n",
    "- 2、With known dice rolls, the game tree becomes deterministic. For each dice-roll sequence,solve the resulting deterministic game tree using alpha-beta.\n",
    "- 3、Use the results to estimate the value of each move and to choose the best.Will this procedure work well? Why (or why not)?\n",
    "\n",
    "See textbook Chapter5 5.19"
   ]
  },
  {
   "cell_type": "markdown",
   "metadata": {},
   "source": [
    "_your answer here..._ \n",
    "\n",
    "*** \n",
    "- This procedure will give incorrect results. Mathematically, the procedure amounts to assuming that averaging commutes with min and max, which it does not. Intuitively, the choices made by each player in the deterministic trees are based on full knowledge of future dice rolls, and bear no necessary relationship to the moves made without such knowledge."
   ]
  },
  {
   "cell_type": "markdown",
   "metadata": {},
   "source": [
    "5\\. Now,please consider this game:  there are three plates A, B and C, each plate has three bills. A puts 1, 20, 50; B puts 5, 10, 100; C puts 1, 5, 20. All units are \"Yuan\". There are two persons A and B, and two of them can check out three plates and banknotes .（ A is ourself, The other is B）\n",
    "The game is divided into three steps: \n",
    "- 1、A select a plate from three plate.\n",
    "- 2、B take out two banknotes from A selected plate,and give the  banknotes to A.  \n",
    "- 3、A take one of the two banknotes, and take it away.among,A want to get the max banknotes, B want to let A to get the min.\n",
    "\n",
    "Try to understand the minimax algorithm，you can click the link:https://blog.csdn.net/tangchenyi/article/details/22920031"
   ]
  },
  {
   "cell_type": "markdown",
   "metadata": {},
   "source": [
    "_your answer here..._ \n",
    "\n",
    "*** \n",
    "1. draft a pattern tree of the above example problem\n",
    "2. choose the banknotes. Select the maximum value structure, the value of each node is the maximum\n",
    "3. assume that the other side will try to give us the minimized value. Choose the corresponding maximum\n",
    "4. The value of the root node is 20, which means that the opponent makes perfectly of every decision,This is our best decision under the Minimax algorithm. \n",
    "5. Minimax is generally looking for a local optimal solution rather than a global optimal solution. The more the search depth is more likely to find a better solution, but the time consuming will be exponentially expanded."
   ]
  },
  {
   "cell_type": "markdown",
   "metadata": {},
   "source": [
    "### Programming Excercises"
   ]
  },
  {
   "cell_type": "markdown",
   "metadata": {},
   "source": [
    "1\\. Guess number(Single number): please generate a randomly number  with the function (random), then ask someone to guess the number,I think we should give the corresponding hint, otherwise it will be very difficult to guess the number.the game will be over untill you get the right number."
   ]
  },
  {
   "cell_type": "code",
   "execution_count": 1,
   "metadata": {},
   "outputs": [],
   "source": [
    "## write your answer here!\n",
    "import random\n",
    "\n",
    "a = random.randint(0, 9)\n",
    "\n",
    "print(\"the number is between 0 and 10\")\n",
    "answer = int(input())\n",
    "while answer != a:\n",
    "    if answer < a:\n",
    "        print(\"The number is bigger than your answer. Please try again.\")\n",
    "        answer = int(input())\n",
    "        continue\n",
    "    if answer > a:\n",
    "        print(\"The number is lower than your answer. Please try again.\")\n",
    "        answer = int(input())\n",
    "print(\"Win!\")"
   ]
  },
  {
   "cell_type": "markdown",
   "metadata": {},
   "source": [
    "2\\.if you had understand the guess single number games,Congratulates,next is the guess three number games,Maybe you can do it well.But this is a different way of thinking. \n",
    "first : we need generate three numbers,there are most ten times chances give  you to guess the number,of course,we also give you some cue.\n",
    "\n",
    "- 'When I say:-->It means:\n",
    "- 'error--> The 3 numbers are not in the mystical numbers.'\n",
    "- 'Only the number is correct --> the number is right , but the position is not right.'\n",
    "- 'Absolutely right--> numbers is right and the position also right.'\n",
    "\n",
    "Maybe it's better for you to understand the rule well through see the picture.\n",
    "<div style=\"float:left;\" ><img src=\"img/p1.png\" width=\"400\" height=\"300\" >"
   ]
  },
  {
   "cell_type": "code",
   "execution_count": null,
   "metadata": {},
   "outputs": [],
   "source": [
    "## write your answer here!\n",
    "import random\n",
    "\n",
    "\n",
    "def guess():\n",
    "    time = 0\n",
    "    a = random.randint(0, 9)\n",
    "    b = random.randint(0, 9)\n",
    "    c = random.randint(0, 9)\n",
    "    #num = (a,b,c)\n",
    "    print(num)\n",
    "    print(\"there are three numbers, please guess what it is.\")\n",
    "    result = [\"error\", \"error\", \"error\"]\n",
    "    while result != [\"Absolutely right\", \"Absolutely right\", \"Absolutely right\"]:\n",
    "        time += 1\n",
    "        print(\"This is the \" + str(time) + \"time\")\n",
    "        answer = input()\n",
    "        result = [\"error\", \"error\", \"error\"]\n",
    "        for i in range(3):\n",
    "            for j in range(3):\n",
    "                if answer[i] == str(num[j]):\n",
    "                    print(i,j)\n",
    "                    if i == j:\n",
    "                        result[i] = \"Absolutely right\"\n",
    "                        break\n",
    "                    else:\n",
    "                        result[i] = \"Only the number is correct\"\n",
    "        print(result)\n",
    "        if time == 10:\n",
    "            print(\"Chances used up. You lose the game.\")\n",
    "            break\n",
    "    if result == [\"Absolutely right\", \"Absolutely right\", \"Absolutely right\"]:\n",
    "        print(\"Win!\")\n",
    "\n",
    "guess()\n",
    "print(\"Do you want to play again? (yes or no)\")\n",
    "choice = input()\n",
    "while choice == \"yes\":\n",
    "    guess()\n",
    "    print(\"Do you want to play again? (yes or no)\")\n",
    "    choice = input()"
   ]
  },
  {
   "cell_type": "markdown",
   "metadata": {},
   "source": [
    "3\\.please try using Python's Tkinter to make a visual interface（GUI）.if you don't know anything.Maybe you can refer to the below interface.and implement it by code.\n",
    "\n",
    "<div style=\"float:left;\" ><img src=\"img/p2.png\" width=\"200\" height=\"200\" >"
   ]
  },
  {
   "cell_type": "code",
   "execution_count": null,
   "metadata": {},
   "outputs": [],
   "source": [
    "## write your answer here!\n",
    "from tkinter import *\n",
    "root = Tk()  # Create the background color of the window object\n",
    "# Create two lists\n",
    "li = ['C', 'python', 'php', 'html', 'SQL', 'java']\n",
    "movie = ['CSS', 'jQuery', 'Bootstrap']\n",
    "listb = Listbox(root)  # Create two list components\n",
    "listb2 = Listbox(root)\n",
    "for item in li:  # The first widget is inserted into the data\n",
    "    listb.insert(0, item)\n",
    "\n",
    "for item in movie:  # The second widget is inserted into the data\n",
    "    listb2.insert(0, item)\n",
    "\n",
    "listb.pack()  # Place the widget into the main window\n",
    "listb2.pack()\n",
    "root.mainloop()  # Enter the message cycle"
   ]
  },
  {
   "cell_type": "markdown",
   "metadata": {},
   "source": [
    "4\\.Through the initial trial of Tkinter,    please write a simple calculator.\n",
    "\n",
    "<div style=\"float:left;\" ><img src=\"img/p3.png\" width=\"180\" height=\"200\" center=\"left\"></div>\n",
    "<div style=\"float:left;\" ><img src=\"img/p4.png\" width=\"180\" height=\"200\" center=\"right\" ></div>"
   ]
  },
  {
   "cell_type": "code",
   "execution_count": 2,
   "metadata": {},
   "outputs": [],
   "source": [
    "## write your answer here!\n",
    "import tkinter\n",
    "\n",
    "\n",
    "class calculator:\n",
    "    def __init__(self):\n",
    "        self.root = tkinter.Tk()\n",
    "        self.root.geometry('300x360')\n",
    "        self.root.title(\"my calculator\")\n",
    "        self.result = tkinter.StringVar()\n",
    "        self.result.set(0)\n",
    "        self.list = []\n",
    "        self.press = False\n",
    "        self.layout()\n",
    "        self.root.mainloop()\n",
    "\n",
    "    def layout(self):\n",
    "        self.result = tkinter.StringVar()\n",
    "        self.result.set(0)\n",
    "        show_label = tkinter.Label(self.root, bd=3, bg='white', font=('宋体', 40), anchor='e', textvariable=self.result)\n",
    "        show_label.place(x=5, y=15, width=280, height=60)\n",
    "\n",
    "        button_c = tkinter.Button(self.root, text='C', command=lambda: self.sweeppress())\n",
    "        button_c.place(x=30, y=75, width=60, height=40)\n",
    "\n",
    "        button_zf = tkinter.Button(self.root, text='±', command=lambda: self.zf())\n",
    "        button_zf.place(x=90, y=75, width=60, height=40)\n",
    "\n",
    "        button_de = tkinter.Button(self.root, text='←', command= lambda: self.de())\n",
    "        button_de.place(x=150, y=75, width=60, height=40)\n",
    "\n",
    "        button_ce = tkinter.Button(self.root, text='CE', command=lambda: self.ce())\n",
    "        button_ce.place(x=210, y=75, width=60, height=40)\n",
    "\n",
    "        button_1 = tkinter.Button(self.root, text='1', command=lambda: self.pressnum('1'))\n",
    "        button_1.place(x=30, y=115, width=60, height=60)\n",
    "\n",
    "        button_2 = tkinter.Button(self.root, text='2', command=lambda: self.pressnum('2'))\n",
    "        button_2.place(x=90, y=115, width=60, height=60)\n",
    "\n",
    "        button_3 = tkinter.Button(self.root, text='3', command=lambda: self.pressnum('3'))\n",
    "        button_3.place(x=150, y=115, width=60, height=60)\n",
    "\n",
    "        button_4 = tkinter.Button(self.root, text='4', command=lambda: self.pressnum('4'))\n",
    "        button_4.place(x=210, y=115, width=60, height=60)\n",
    "\n",
    "        button_5 = tkinter.Button(self.root, text='5', command=lambda: self.pressnum('5'))\n",
    "        button_5.place(x=30, y=175, width=60, height=60)\n",
    "\n",
    "        button_6 = tkinter.Button(self.root, text='6', command=lambda: self.pressnum('6'))\n",
    "        button_6.place(x=90, y=175, width=60, height=60)\n",
    "\n",
    "        button_7 = tkinter.Button(self.root, text='7', command=lambda: self.pressnum('7'))\n",
    "        button_7.place(x=150, y=175, width=60, height=60)\n",
    "\n",
    "        button_8 = tkinter.Button(self.root, text='8', command=lambda: self.pressnum('8'))\n",
    "        button_8.place(x=210, y=175, width=60, height=60)\n",
    "\n",
    "        button_point = tkinter.Button(self.root, text='.', command=lambda: self.pressnum('.'))\n",
    "        button_point.place(x=30, y=235, width=60, height=60)\n",
    "\n",
    "        button_9 = tkinter.Button(self.root, text='9', command=lambda: self.pressnum('9'))\n",
    "        button_9.place(x=90, y=235, width=60, height=60)\n",
    "\n",
    "        button_0 = tkinter.Button(self.root, text='0', command=lambda: self.pressnum('0'))\n",
    "        button_0.place(x=150, y=235, width=60, height=60)\n",
    "\n",
    "        button_equal = tkinter.Button(self.root, text='=', command=lambda: self.pressequal())\n",
    "        button_equal.place(x=210, y=235, width=60, height=60)\n",
    "\n",
    "        button_add = tkinter.Button(self.root, text='+', command=lambda:self.presscalculate(\"+\"))\n",
    "        button_add.place(x=30, y=295, width=60, height=40)\n",
    "\n",
    "        button_delete = tkinter.Button(self.root, text='-', command=lambda:self.presscalculate(\"-\"))\n",
    "        button_delete.place(x=90, y=295, width=60, height=40)\n",
    "\n",
    "        button_multiply = tkinter.Button(self.root, text='*', command=lambda:self.presscalculate(\"*\"))\n",
    "        button_multiply.place(x=150, y=295, width=60, height=40)\n",
    "\n",
    "        button_devide = tkinter.Button(self.root, text='/', command=lambda: self.presscalculate(\"/\"))\n",
    "        button_devide.place(x=210, y=295, width=60, height=40)\n",
    "\n",
    "    def sweeppress(self):\n",
    "        self.result.set(0)\n",
    "\n",
    "    def zf(self):\n",
    "        s = self.result.get()\n",
    "        if s[0] == '-':\n",
    "            self.result.set(s[1:])\n",
    "        elif s[0] != '-' and s != '0':\n",
    "            self.result.set('-' + s)\n",
    "\n",
    "    def de(self):\n",
    "        s = self.result.get()\n",
    "        if s != '0':\n",
    "            if len(s) > 1:\n",
    "                self.result.set(s[0:len(s)-1])\n",
    "            else:\n",
    "                self.result.set(0)\n",
    "\n",
    "    def ce(self):\n",
    "        self.list.clear()\n",
    "        self.result.set(0)\n",
    "\n",
    "    def pressnum(self,num):\n",
    "        if self.press == False:\n",
    "            pass\n",
    "        else:\n",
    "            self.result.set(0)\n",
    "            self.press=False\n",
    "        if num == '.':\n",
    "            num = '0.'\n",
    "        oldnum = self.result.get()\n",
    "        if oldnum == '0':\n",
    "            self.result.set(num)\n",
    "        else:\n",
    "            newnum = oldnum + num\n",
    "            self.result.set(newnum)\n",
    "\n",
    "    def pressequal(self):\n",
    "        num = self.result.get()\n",
    "        self.list.append(num)\n",
    "        st = \"\".join(self.list)\n",
    "        result = eval(st)\n",
    "        self.result.set(str(result))\n",
    "        if self.list != 0:\n",
    "            self.press = True\n",
    "        self.list.clear()\n",
    "\n",
    "    def presscalculate(self, sign):\n",
    "        num = self.result.get()\n",
    "        self.list.append(num)\n",
    "        self.list.append(sign)\n",
    "        self.press = True\n",
    "        self.result.set(self.list)\n",
    "\n",
    "mycalculator = calculator()"
   ]
  },
  {
   "cell_type": "markdown",
   "metadata": {},
   "source": [
    "5\\.Ball game:Python's pinball game, which can realize the game function of the keyboard control bottom baffle moving collision ball similar to table tennis game. \n",
    "\n",
    "<div style=\"float:left;\" ><img src=\"img/p5.png\" width=\"200\" height=\"200\" center=\"left\"></div>\n",
    "<div style=\"float:left;\" ><img src=\"img/p6.png\" width=\"200\" height=\"200\" center=\"right\" ></div>\n"
   ]
  },
  {
   "cell_type": "markdown",
   "metadata": {},
   "source": [
    "this is a step:how to install the matplotlib,you can reference this link:https://blog.csdn.net/not_give_up_/article/details/79058272\n",
    "1. Ball Class\n",
    "    draw is responsible for moving Ball\n",
    "    Collision detection, bounce, Ball detection of Paddle \n",
    "2. Paddle Class\n",
    "    draw is responsible for moving Paddle\n",
    "    Collision detection to determine whether or not to continue ,Monitor keyboard events\n",
    "3. main cycle\n",
    "    Drawing the Ball and Paddle"
   ]
  },
  {
   "cell_type": "code",
   "execution_count": null,
   "metadata": {},
   "outputs": [],
   "source": [
    "## write your answer here!\n",
    "import tkinter\n",
    "import time\n",
    "import random\n",
    "\n",
    "\n",
    "tk = tkinter.Tk()\n",
    "tk.title(\"pinball game\")\n",
    "canvas=tkinter.Canvas(tk,width=400,height=500,bd=0,highlightthickness = 0)\n",
    "tk.resizable(0,0)\n",
    "canvas.pack()\n",
    "tk.update()\n",
    "\n",
    "\n",
    "\n",
    "class Ball:\n",
    "    def __init__(self, canvas, color,paddle):\n",
    "        self.canvas=canvas\n",
    "        self.paddle=paddle\n",
    "        self.id=canvas.create_oval(10,10,25,25,fill=color)\n",
    "        self.canvas.move(self.id,175,225)\n",
    "        starts=[-3,-2,-1,1,2,3]\n",
    "        random.shuffle(starts)\n",
    "        self.x=starts[0]\n",
    "        self.y=-3\n",
    "        self.canvas_height=self.canvas.winfo_height()\n",
    "        self.canvas_width=self.canvas.winfo_width()\n",
    "        self.hit_bottom = False\n",
    "\n",
    "    def draw(self):\n",
    "        self.canvas.move(self.id,self.x,self.y)\n",
    "        pos = self.canvas.coords(self.id)\n",
    "        if pos[1]<=0:\n",
    "            self.y=3\n",
    "        if pos[3]>=self.canvas_height:\n",
    "            self.y=-3\n",
    "        if pos[0]<=0:\n",
    "            self.x=3\n",
    "        if pos[2]>=self.canvas_width:\n",
    "            self.x=-3\n",
    "        if self.hit_paddle(pos) == True:\n",
    "            self.y = -3\n",
    "        if pos[3]>=canvas.winfo_height():\n",
    "            self.hit_bottom=True\n",
    "\n",
    "    def hit_paddle(self,pos):\n",
    "        paddle_pos=self.canvas.coords(self.paddle.id)\n",
    "        if pos[2]>=paddle_pos[0]and pos[0]<=paddle_pos[2]:\n",
    "            if pos[3]>=paddle_pos[1] and paddle_pos[3]>=pos[3]:\n",
    "                return True\n",
    "        return False\n",
    "\n",
    "\n",
    "\n",
    "\n",
    "\n",
    "class Paddle:\n",
    "    def __init__(self,canvas,color):\n",
    "        self.canvas=canvas\n",
    "        self.id=canvas.create_rectangle(0,0,150,10,fill=color)\n",
    "        self.canvas.move(self.id,200,350)\n",
    "        self.x=0\n",
    "        self.canvas_width=self.canvas.winfo_width()\n",
    "        self.canvas.bind_all('<KeyPress-Left>',self.turn_left)\n",
    "        self.canvas.bind_all('<KeyPress-Right>',self.turn_right)\n",
    "\n",
    "    def draw(self):\n",
    "        self.canvas.move(self.id,self.x,0)\n",
    "        pos=self.canvas.coords(self.id)\n",
    "        if pos[0]<=0:\n",
    "            self.x=0\n",
    "        if pos[2]>=canvas.winfo_width():\n",
    "            self.x=0\n",
    "\n",
    "\n",
    "    def turn_left(self,event):\n",
    "        pos = self.canvas.coords(self.id)\n",
    "        if pos[0] <= 0:\n",
    "            self.x = 0\n",
    "        else:\n",
    "            self.x=-2\n",
    "\n",
    "    def turn_right(self,event):\n",
    "        pos = self.canvas.coords(self.id)\n",
    "        if pos[2] >= canvas.winfo_width():\n",
    "            self.x = 0\n",
    "        else:\n",
    "            self.x=2\n",
    "\n",
    "\n",
    "paddle=Paddle(canvas,\"blue\")\n",
    "ball=Ball(canvas,\"red\",paddle)\n",
    "\n",
    "while 1:\n",
    "    if ball.hit_bottom==False:\n",
    "        ball.draw()\n",
    "        paddle.draw()\n",
    "    tk.update_idletasks()\n",
    "    tk.update()\n",
    "    time.sleep(0.01)"
   ]
  }
 ],
 "metadata": {
  "kernelspec": {
   "display_name": "Python 3",
   "language": "python",
   "name": "python3"
  },
  "language_info": {
   "codemirror_mode": {
    "name": "ipython",
    "version": 3
   },
   "file_extension": ".py",
   "mimetype": "text/x-python",
   "name": "python",
   "nbconvert_exporter": "python",
   "pygments_lexer": "ipython3",
   "version": "3.6.5"
  }
 },
 "nbformat": 4,
 "nbformat_minor": 2
}
