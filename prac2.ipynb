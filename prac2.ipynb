{
 "cells": [
  {
   "cell_type": "markdown",
   "metadata": {},
   "source": [
    "# Introduction to Artificial Intelligence for Non Computing"
   ]
  },
  {
   "cell_type": "markdown",
   "metadata": {},
   "source": [
    "## Practical 2 (weeks 3 - 4)"
   ]
  },
  {
   "cell_type": "markdown",
   "metadata": {},
   "source": [
    "#### Theory Questions "
   ]
  },
  {
   "cell_type": "markdown",
   "metadata": {},
   "source": [
    "1\\. What is an algorithm? A sequence of steps such as a recipe or a movie script.\n",
    "\n",
    "As a movie viewer, please write an algorithm for a process to \"see a movie\". Include details of the following for example (add additional information yourself):\n",
    "\t- The start conditions \n",
    "\t-- I want to watch a movie\n",
    "\t- Roles (people/actors involved) \n",
    "    --watcher, ticket seller etc \n",
    "    -Equipment required (\"props\")\n",
    "    --seats, ticket etc\n",
    "    - The scenes \n",
    "    -- scene 1 - buy ticket \n",
    "    -- ??? what happens next\n",
    "    -- scene 3, scene 3 ...\n",
    "    - Results/outcomes\n",
    "    -- ?\n",
    "\n",
    "    \n",
    "      "
   ]
  },
  {
   "cell_type": "code",
   "execution_count": null,
   "metadata": {},
   "outputs": [],
   "source": [
    "The start conditions：I want to see a movie with my friend. There is a theater. I and my friend both have money and time.  \n",
    "Roles: I, my friend, the ticket seller, popcorn seller  \n",
    "Equipment required: seats, popcorn, screening room, tickets  \n",
    "The scenes:   \n",
    "            1, invite my friend to enjoy the film   \n",
    "            2, go to the cinema  \n",
    "            3, buy tickets  \n",
    "            4, buy a huge bowl of popcorn  \n",
    "            5, step into the screening room  \n",
    "            6, enjoy the movie  \n",
    "            7, enjoy the popcorn  "
   ]
  },
  {
   "cell_type": "markdown",
   "metadata": {},
   "source": [
    "\n",
    "\n",
    "***"
   ]
  },
  {
   "cell_type": "markdown",
   "metadata": {},
   "source": [
    "2\\. A farmer with his wolf, duck and bag of corn come to the east side of a river they wish to cross. There is a boat at the rivers edge, but of course only the farmer can row. The boat can only hold two things (including the rower) at any one time. If the wolf is ever left alone with the duck, the wolf will eat it. Similarly if the duck is ever left alone with the corn, the duck will eat it. How can the farmer get across the river so that all four arrive safely on the other side? "
   ]
  },
  {
   "cell_type": "markdown",
   "metadata": {},
   "source": [
    "1, The farmer takes the duck to the west side of the river  \n",
    "2, The farmer returns to the east side of the river alone  \n",
    "3, The farmer takes the wolf to the west side of the river  \n",
    "4, The farmer takes the duck back to the east side of the river  \n",
    "5, The farmer takes the corn to the west side of the river  \n",
    "6, The farmer returns to the east side of the river alone  \n",
    "7, The famer carries the duck to the west side of the river   \n",
    "done"
   ]
  },
  {
   "cell_type": "markdown",
   "metadata": {},
   "source": [
    " "
   ]
  },
  {
   "cell_type": "markdown",
   "metadata": {},
   "source": [
    "3\\.Explain why we determine our problem goals before we write the problem formulation (including the model and deciding what algorithm or techniques to use - for example search, or other method).\n",
    "\n",
    "See Chapter3.1 (Russel & Norvig)"
   ]
  },
  {
   "cell_type": "markdown",
   "metadata": {},
   "source": [
    " Goals help organize behavior by limiting the objectives that the agent is trying to achieve and hence the actions it needs to consider.  Problem formulation is the process of deciding what actions and states to consider, given a goal. According to the definition, we need to determine our problem goals before we write the problem formulation. Otherwise, without a clear goal and doing the problem formulation first, we can not decide what objectives we want to achive. Hence we can not decide what actions and states to consider.\n"
   ]
  },
  {
   "cell_type": "markdown",
   "metadata": {},
   "source": [
    "4\\. This question requires you to perform BFS and DFS on paper.\n",
    "\n",
    "<img src=\"img/p1.png\" width=\"180\" height=\"180\" >\n",
    "\n",
    "1. Simulate (on pencil-and-paper) breadth-first search starting from node A when the goal node is K.\n",
    "2. Simulate (on pencil-and-paper) depth first search starting from node A when the goal node is I.\n"
   ]
  },
  {
   "cell_type": "markdown",
   "metadata": {},
   "source": [
    "1. _your answer here..._ ABCDEFHGIK\n",
    "2. _your answer here..._ ABCEFDHI\n",
    "\n",
    "***"
   ]
  },
  {
   "cell_type": "markdown",
   "metadata": {},
   "source": [
    "5\\.Consider a state space where the start state is number 1 and each state  k has two successors: numbers 2k and 2k + 1.\n",
    "- a. Draw the portion of the state space for states 1 to 15.\n",
    "- b. Suppose the goal state is 11. List the order in which nodes will be visited for breadthfirst\n",
    "search, depth-limited search with limit 3, and iterative deepening search.\n",
    "- c. How well would bidirectional search work on this problem? What is the branching\n",
    "factor in each direction of the bidirectional search?\n",
    "- d. Does the answer to (c) suggest a reformulation of the problem that would allow you to\n",
    "solve the problem of getting from state 1 to a given goal state with almost no search?\n",
    "- e. Call the action going from k to 2k Left, and the action going to 2k + 1 Right. Can you\n",
    "find an algorithm that outputs the solution to this problem without any search at all?\n",
    "\n",
    "See textbook Chapter3.15"
   ]
  },
  {
   "cell_type": "markdown",
   "metadata": {},
   "source": [
    "a.  \n",
    "               1  \n",
    "        2            3  \n",
    "    4       5     6      7  \n",
    "  8   9   10 11 12 13  14  15    \n",
    "b.  \n",
    "BFS: 1 2 3 4 5 6 7 8 9 10 11  \n",
    "DFS: 1 2 4 8 9 5 10 11  \n",
    "Iterative deepening search: 1 2 3; 1 2 4 5 3 6 7; 1 2 4 8 9 5 10 11  \n",
    "c.\n",
    "useful. forward:2 reverse direction:1\n",
    "d.\n",
    "yes. let the search start from 11, and the goal is 1.(exchange the goal and start point)\n",
    "e. 11->1011 1011->reverse->1101->which means left, right, right.\n",
    "\n",
    "\n"
   ]
  },
  {
   "cell_type": "markdown",
   "metadata": {},
   "source": [
    "### Programming Excercises"
   ]
  },
  {
   "cell_type": "markdown",
   "metadata": {},
   "source": [
    "1\\.Write a program to solve a classic ancient Chinese puzzle:  \n",
    " We count 35 heads and 94 legs among the chickens and rabbits in a farm. How many rabbits and how many chickens do we have? "
   ]
  },
  {
   "cell_type": "code",
   "execution_count": 1,
   "metadata": {
    "scrolled": true
   },
   "outputs": [
    {
     "name": "stdout",
     "output_type": "stream",
     "text": [
      "There are 12 rabbits and 23 chickens\n"
     ]
    }
   ],
   "source": [
    "for i in range (36):\n",
    "    if (2*i+4*(35-i)==94):\n",
    "        print(\"There are %d rabbits and %d chickens\"%(35-i,i))"
   ]
  },
  {
   "cell_type": "markdown",
   "metadata": {},
   "source": [
    "2\\. _Social networking_ Please look at the graph below of social relationships. You have a mango farm, you need to find a mango buyer and sell him your mango that you have grown (just a small farm). To this end, our principle is to use our social network of friends separated by one degree, and then second degree friends (friends of friends), third degree friends (friends of friends of friends).\n",
    "\n",
    "Use the depth first algorithm to search your network until you find a mango seller. \n",
    "\n",
    "We make an assumption that if the person's name ends with m, then it means the person must be the mango seller!\n",
    "\n",
    "\n",
    "<img src=\"img/p3.png\" width=\"500\" height=\"400\" >"
   ]
  },
  {
   "cell_type": "code",
   "execution_count": 1,
   "metadata": {},
   "outputs": [
    {
     "name": "stdout",
     "output_type": "stream",
     "text": [
      "Find the mango seller thom\n"
     ]
    }
   ],
   "source": [
    "\n",
    "import queue\n",
    "graph={'you':['bob','alice','claire'],\n",
    "       'bob':['anuj','peggy'],\n",
    "       'alice':['peggy'],\n",
    "       'claire':['thom','jonny']\n",
    "        }\n",
    "def bfs(adj,start):\n",
    "    visited=set()\n",
    "    q=queue.Queue()\n",
    "    q.put(start)\n",
    "    flag=0\n",
    "    while not q.empty():\n",
    "        h=q.get()\n",
    "        for v in adj.get(h,[]):\n",
    "            if v not in visited:\n",
    "                visited.add(v)\n",
    "                q.put(v)\n",
    "                if v[len(v)-1]=='m':\n",
    "                    print(\"Find the mango seller \"+v)\n",
    "                    flag=1\n",
    "                    break\n",
    "        if flag==1:\n",
    "            break\n",
    "bfs(graph,'you')\n"
   ]
  },
  {
   "cell_type": "markdown",
   "metadata": {},
   "source": [
    "3\\. Depth First traverse：Use depth first traversal to traverse all the DLL files on the C disk and output the file names.\n",
    "\n",
    "Update your code to search for a particular filename.\n",
    "\n",
    "What protocol did you use to select the next node to expand on the fringe?"
   ]
  },
  {
   "cell_type": "code",
   "execution_count": null,
   "metadata": {},
   "outputs": [
    {
     "name": "stdout",
     "output_type": "stream",
     "text": [
      "c:\\Windows10Upgrade\\windlp.dll\n",
      "c:\\Windows10Upgrade\\wimgapi.dll\n",
      "c:\\Windows10Upgrade\\GetCurrentOOBE.dll\n",
      "c:\\Windows10Upgrade\\GetCurrentDeploy.dll\n",
      "c:\\Windows10Upgrade\\esdstub.dll\n",
      "c:\\Windows10Upgrade\\ESDHelper.dll\n",
      "c:\\Windows10Upgrade\\downloader.dll\n",
      "c:\\Windows10Upgrade\\dll2\\webservices.dll\n",
      "c:\\Windows10Upgrade\\dll1\\webservices.dll\n",
      "c:\\Windows10Upgrade\\dll1\\wdscore.dll\n",
      "c:\\Windows10Upgrade\\dll1\\cosqueryxp.dll\n",
      "c:\\Windows10Upgrade\\DevInv.dll\n",
      "c:\\Windows10Upgrade\\cosquery.dll\n",
      "c:\\Windows10Upgrade\\appraiserxp.dll\n"
     ]
    }
   ],
   "source": [
    "import os\n",
    "#DFS\n",
    "class Stack:\n",
    "#    \"A container with a last-in-first-out (LIFO) queuing policy.\"\n",
    "    def __init__(self):\n",
    "        self.list = []\n",
    "\n",
    "    def push(self,item):\n",
    "        self.list.append(item)\n",
    "\n",
    "    def pop(self):\n",
    "        return self.list.pop()\n",
    "\n",
    "    def isEmpty(self):\n",
    "        return len(self.list) == 0\n",
    "\n",
    "stack=Stack()\n",
    "visited=[]\n",
    "def find(path):\n",
    "    stack.push(path)\n",
    "    succ=[]\n",
    "    while not stack.isEmpty():\n",
    "        cur_path=stack.pop()\n",
    "        if os.path.isfile(cur_path) and cur_path.endswith('.dll'):\n",
    "            print(cur_path)\n",
    "        if cur_path not in visited:\n",
    "            visited.append(cur_path)\n",
    "            if os.path.isdir(cur_path):\n",
    "                succ = os.listdir(cur_path)\n",
    "                for filename in succ:\n",
    "                    deeper_dir = os.path.join(cur_path, filename)\n",
    "                    if(deeper_dir not in visited):\n",
    "                        stack.push(deeper_dir)\n",
    "if __name__=='__main__':\n",
    "    try:\n",
    "        find('c:\\\\')\n",
    "    except WindowsError:\n",
    "        pass"
   ]
  },
  {
   "cell_type": "code",
   "execution_count": 7,
   "metadata": {},
   "outputs": [
    {
     "name": "stdout",
     "output_type": "stream",
     "text": [
      "Object file in c:\\Windows10Upgrade\n"
     ]
    }
   ],
   "source": [
    "import os\n",
    "#DFS\n",
    "class Stack:\n",
    "#    \"A container with a last-in-first-out (LIFO) queuing policy.\"\n",
    "    def __init__(self):\n",
    "        self.list = []\n",
    "\n",
    "    def push(self,item):\n",
    "        self.list.append(item)\n",
    "\n",
    "    def pop(self):\n",
    "        return self.list.pop()\n",
    "\n",
    "    def isEmpty(self):\n",
    "        return len(self.list) == 0\n",
    "\n",
    "stack=Stack()\n",
    "visited=[]\n",
    "\n",
    "def find(path,objectFileName):\n",
    "    stack.push(path)\n",
    "    succ=[]\n",
    "    flag=0\n",
    "    while not stack.isEmpty():\n",
    "        cur_path=stack.pop()\n",
    "        \n",
    "        if cur_path not in visited:\n",
    "            visited.append(cur_path)\n",
    "            if os.path.isdir(cur_path):\n",
    "                succ = os.listdir(cur_path)\n",
    "                for filename in succ:\n",
    "                    deeper_dir = os.path.join(cur_path, filename)\n",
    "                    if filename == objectFileName:\n",
    "                        print('Object file in '+cur_path)\n",
    "                        flag=1\n",
    "                    if(deeper_dir not in visited):\n",
    "                        stack.push(deeper_dir)\n",
    "        if flag==1:\n",
    "            break\n",
    "if __name__=='__main__':\n",
    "    try:\n",
    "        find('c:\\\\','wimgapi.dll')\n",
    "    except WindowsError:\n",
    "        pass"
   ]
  },
  {
   "cell_type": "markdown",
   "metadata": {},
   "source": [
    "4\\.\n",
    "Breadth First traverse：Use breadth traversal to traverse all the DLL files on the C disk and output the filename.\n",
    "\n",
    "Update your code to search for a particular filename."
   ]
  },
  {
   "cell_type": "code",
   "execution_count": 1,
   "metadata": {},
   "outputs": [
    {
     "name": "stdout",
     "output_type": "stream",
     "text": [
      "D:\\CS\\Test\\crypt32.dll\n",
      "D:\\CS\\Test\\level1\\1_crypt32.dll\n",
      "D:\\CS\\Test\\level1.2\\1.2crypt32.dll\n",
      "D:\\CS\\Test\\level1\\level2\\2crypt32.dll\n",
      "D:\\CS\\Test\\level1.2\\level2.2\\2.2crypt32.dll\n"
     ]
    }
   ],
   "source": [
    "#Search for the DLL files\n",
    "import os\n",
    "class Queue:\n",
    "    \"A container with a first-in-first-out (FIFO) queuing policy.\"\n",
    "    def __init__(self):\n",
    "        self.list = []\n",
    "\n",
    "    def push(self,item):\n",
    "        \"Enqueue the 'item' into the queue\"\n",
    "        self.list.insert(0,item)\n",
    "\n",
    "    def pop(self):\n",
    "        \"\"\"\n",
    "          Dequeue the earliest enqueued item still in the queue. This\n",
    "          operation removes the item from the queue.\n",
    "        \"\"\"\n",
    "        return self.list.pop()\n",
    "\n",
    "    def isEmpty(self):\n",
    "        \"Returns true if the queue is empty\"\n",
    "        return len(self.list) == 0\n",
    "\n",
    "queue=Queue()\n",
    "visited=[]\n",
    "def find(path):\n",
    "    queue.push(path)\n",
    "    succ=[]\n",
    "    while not queue.isEmpty():\n",
    "        cur_path=queue.pop()\n",
    "        if os.path.isfile(cur_path) and cur_path.endswith('.dll'):\n",
    "            print(cur_path)\n",
    "        if cur_path not in visited:\n",
    "            visited.append(cur_path)\n",
    "            if os.path.isdir(cur_path):\n",
    "                succ = os.listdir(cur_path)\n",
    "                for filename in succ:\n",
    "                    deeper_dir = os.path.join(cur_path, filename)\n",
    "                    \n",
    "                    if(deeper_dir not in visited):\n",
    "                        queue.push(deeper_dir)\n",
    "if __name__=='__main__':\n",
    "    try:\n",
    "        find('D:\\CS\\Test')\n",
    "    except WindowsError:\n",
    "        pass"
   ]
  },
  {
   "cell_type": "code",
   "execution_count": 4,
   "metadata": {},
   "outputs": [
    {
     "name": "stdout",
     "output_type": "stream",
     "text": [
      "Object file in D:\\CS\\Test\n"
     ]
    }
   ],
   "source": [
    "#Search for a particular filename.\n",
    "import os\n",
    "\n",
    "class Queue:\n",
    "    \"A container with a first-in-first-out (FIFO) queuing policy.\"\n",
    "\n",
    "    def __init__(self):\n",
    "        self.list = []\n",
    "\n",
    "    def push(self, item):\n",
    "        \"Enqueue the 'item' into the queue\"\n",
    "        self.list.insert(0, item)\n",
    "\n",
    "    def pop(self):\n",
    "        \"\"\"\n",
    "          Dequeue the earliest enqueued item still in the queue. This\n",
    "          operation removes the item from the queue.\n",
    "        \"\"\"\n",
    "        return self.list.pop()\n",
    "\n",
    "    def isEmpty(self):\n",
    "        \"Returns true if the queue is empty\"\n",
    "        return len(self.list) == 0\n",
    "\n",
    "\n",
    "\n",
    "\n",
    "\n",
    "def find(path,objectFileName):\n",
    "    queue = Queue()\n",
    "    visited = []\n",
    "    queue.push(path)\n",
    "    succ = []\n",
    "    flag=0\n",
    "    while not queue.isEmpty():\n",
    "        cur_path = queue.pop()\n",
    "\n",
    "        if cur_path not in visited:\n",
    "            visited.append(cur_path)\n",
    "            if os.path.isdir(cur_path):\n",
    "                succ = os.listdir(cur_path)\n",
    "                for filename in succ:\n",
    "\n",
    "                    deeper_dir = os.path.join(cur_path, filename)\n",
    "                    if filename == objectFileName:\n",
    "                        print('Object file in '+cur_path)\n",
    "                        flag=1\n",
    "                    if (deeper_dir not in visited):\n",
    "                        queue.push(deeper_dir)\n",
    "        if flag==1:\n",
    "            break\n",
    "\n",
    "\n",
    "if __name__ == '__main__':\n",
    "    try:\n",
    "        find('D:\\CS\\Test','crypt32.dll')\n",
    "    except WindowsError:\n",
    "        pass"
   ]
  },
  {
   "cell_type": "markdown",
   "metadata": {},
   "source": [
    "5\\. Uniform cost search"
   ]
  },
  {
   "cell_type": "markdown",
   "metadata": {},
   "source": [
    "Consider a state space where the start state is 2 and each state k has three successors: numbers 2k, 2k+1, 2k+2. The cost from state k to each respective child is k, ground(k/2), k+2.\n",
    "\n",
    "can you implement a uniform-cost-search algorithm with python. The goal state is number 85."
   ]
  },
  {
   "cell_type": "code",
   "execution_count": 7,
   "metadata": {},
   "outputs": [
    {
     "name": "stdout",
     "output_type": "stream",
     "text": [
      "The uniform-cost-search result is 53\n"
     ]
    }
   ],
   "source": [
    "import math\n",
    "goal=85\n",
    "stateList=[-1]*(goal+1)\n",
    "stateList[2]=0\n",
    "for k in range(2,goal//2+1):\n",
    "    if stateList[k]<0:continue\n",
    "    for pos,cost in [(k*2, k),(k*2 + 1, math.floor(k//2)),(k*2+2, k+2)]:\n",
    "        if pos>goal:continue\n",
    "        if stateList[pos]==-1 or stateList[pos]>stateList[k]+cost:\n",
    "            stateList[pos]=stateList[k]+cost\n",
    "print(\"The uniform-cost-search result is %d\"%stateList[goal])"
   ]
  },
  {
   "cell_type": "markdown",
   "metadata": {},
   "source": [
    "6\\.a* question"
   ]
  },
  {
   "cell_type": "markdown",
   "metadata": {},
   "source": [
    "A cute cat stays in the A position, he is hungry. But the food is placed in the B position. Can you help him to find the food? \n",
    "Hint:  The problem isn't easy. It's essential for you to understand the A* algorithm before you solve this problem. Then, you can use some thought of Node in java, when you are in code.\n",
    "\n",
    "<img src=\"img/p4.png\" width=\"500\" height=\"400\" >\n"
   ]
  },
  {
   "cell_type": "code",
   "execution_count": null,
   "metadata": {},
   "outputs": [],
   "source": [
    "## write your answer here!"
   ]
  }
 ],
 "metadata": {
  "kernelspec": {
   "display_name": "Python 3",
   "language": "python",
   "name": "python3"
  },
  "language_info": {
   "codemirror_mode": {
    "name": "ipython",
    "version": 3
   },
   "file_extension": ".py",
   "mimetype": "text/x-python",
   "name": "python",
   "nbconvert_exporter": "python",
   "pygments_lexer": "ipython3",
   "version": "3.7.0"
  }
 },
 "nbformat": 4,
 "nbformat_minor": 2
}
