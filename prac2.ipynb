{
 "cells": [
  {
   "cell_type": "markdown",
   "metadata": {},
   "source": [
    "# Introduction to Artificial Intelligence for Non Computing"
   ]
  },
  {
   "cell_type": "markdown",
   "metadata": {},
   "source": [
    "## Practical 2 (weeks 3 - 4)"
   ]
  },
  {
   "cell_type": "markdown",
   "metadata": {},
   "source": [
    "## Search Techniques"
   ]
  },
  {
   "cell_type": "markdown",
   "metadata": {},
   "source": [
    "The following links provide additional information about depth first search and breath first search"
   ]
  },
  {
   "cell_type": "markdown",
   "metadata": {},
   "source": [
    "- Depth first search:   link：https://pan.baidu.com/s/1bkLHKKbSBNpfFuKwDyURqw  password：oy76\n",
    "- Breath first search:  link：https://pan.baidu.com/s/176g5q0W3rGbSAM5tZMraeg   password：7mdh"
   ]
  },
  {
   "cell_type": "markdown",
   "metadata": {},
   "source": [
    "#### Theory Questions "
   ]
  },
  {
   "cell_type": "markdown",
   "metadata": {},
   "source": [
    "1\\. What is an algorithm? A sequence of steps such as a recipe or a movie script.\n",
    "\n",
    "As a movie viewer, please write an algorithm for a process to \"see a movie\". Include details of the following for example (add additional information yourself):\n",
    "\t- The start conditions \n",
    "\t-- I want to watch a movie\n",
    "\t- Roles (people/actors involved) \n",
    "    --watcher, ticket seller etc \n",
    "    -Equipment required (\"props\")\n",
    "    --seats, ticket etc\n",
    "    - The scenes \n",
    "    -- scene 1 - buy ticket \n",
    "    -- ??? what happens next\n",
    "    -- scene 3, scene 3 ...\n",
    "    - Results/outcomes\n",
    "    -- ?\n"
   ]
  },
  {
   "cell_type": "markdown",
   "metadata": {},
   "source": [
    "_your answer here..._ \n",
    "\n",
    "####  - a.True The second player will play using its own strategy. The action of the second player is up to the action of the first player but not its strategy.\n",
    "####  - b.False The action of the first player is based on the action of the second player.\n",
    "####  - c.False It is a game of chance. Sometimes it may also lose."
   ]
  },
  {
   "cell_type": "markdown",
   "metadata": {},
   "source": [
    "2\\. A farmer with his wolf, duck and bag of corn come to the east side of a river they wish to cross. There is a boat at the rivers edge, but of course only the farmer can row. The boat can only hold two things (including the rower) at any one time. If the wolf is ever left alone with the duck, the wolf will eat it. Similarly if the duck is ever left alone with the corn, the duck will eat it. How can the farmer get across the river so that all four arrive safely on the other side? "
   ]
  },
  {
   "cell_type": "markdown",
   "metadata": {},
   "source": [
    "_your answer here..._ \n",
    "\n",
    "####  - 1, The farmer takes the duck to the west side of the river\n",
    "####  - 2, The farmer returns to the east side of the river alone\n",
    "####  - 3, The farmer takes the wolf to the west side of the river\n",
    "####  - 4, The farmer takes the duck back to the east side of the river\n",
    "####  - 5, The farmer takes the corn to the west side of the river\n",
    "####  - 6, The farmer returns to the east side of the river alone\n",
    "####  - 7, The famer carries the duck to the west side of the river\n",
    "\n"
   ]
  },
  {
   "cell_type": "markdown",
   "metadata": {},
   "source": [
    " "
   ]
  },
  {
   "cell_type": "markdown",
   "metadata": {},
   "source": [
    "3\\.Explain why we determine our problem goals before we write the problem formulation (including the model and deciding what algorithm or techniques to use - for example search, or other method).\n",
    "\n",
    "See Chapter3.1 (Russel & Norvig)"
   ]
  },
  {
   "cell_type": "markdown",
   "metadata": {},
   "source": [
    "_your answer here..._ \n",
    "\n",
    "#### Goals help organize behavior by limiting the objectives that the agent is trying to achieve and hence the actions it needs to consider. Problem formulation is the process of deciding what actions and states to consider, given a goal. According to the definition, we need to determine our problem goals before we write the problem formulation. Otherwise, without a clear goal and doing the problem formulation first, we can not decide what objectives we want to achive. Hence we can not decide what actions and states to consider.\n"
   ]
  },
  {
   "cell_type": "markdown",
   "metadata": {},
   "source": [
    "4\\. This question requires you to perform BFS and DFS on paper.\n",
    "\n",
    "<img src=\"img/p1.png\" width=\"180\" height=\"180\" >\n",
    "\n",
    "1. Simulate (on pencil-and-paper) breadth-first search starting from node A when the goal node is K.\n",
    "2. Simulate (on pencil-and-paper) depth first search starting from node A when the goal node is I.\n"
   ]
  },
  {
   "cell_type": "markdown",
   "metadata": {},
   "source": [
    "1. _your answer here..._ \n",
    "\n",
    "#### •1.BFS(there are used right hand rule .Maybe you can ues the left hand rule). A:[B] B:[C,D] C:[D,E,F] D:[E,F,H,G] E:[F,H,G] F:[H,G] H:[G,K,I] G:[K,I] K=goal\n",
    "\n",
    "\n",
    "\n",
    "2. _your answer here..._\n",
    "\n",
    "\n",
    "#### •2. DFS(there are used right hand rule .Maybe you can ues the left hand rule). A:[B] B:[C,D] C:[E,G,D] E:[F,D] F:[D] D:[H,G] H:[I,K,G] I=goal"
   ]
  },
  {
   "cell_type": "markdown",
   "metadata": {},
   "source": [
    "5\\.Consider a state space where the start state is number 1 and each state  k has two successors: numbers 2k and 2k + 1.\n",
    "- a. Draw the portion of the state space for states 1 to 15.\n",
    "- b. Suppose the goal state is 11. List the order in which nodes will be visited for breadthfirst\n",
    "search, depth-limited search with limit 3, and iterative deepening search.\n",
    "- c. How well would bidirectional search work on this problem? What is the branching\n",
    "factor in each direction of the bidirectional search?\n",
    "- d. Does the answer to (c) suggest a reformulation of the problem that would allow you to\n",
    "solve the problem of getting from state 1 to a given goal state with almost no search?\n",
    "- e. Call the action going from k to 2k Left, and the action going to 2k + 1 Right. Can you\n",
    "find an algorithm that outputs the solution to this problem without any search at all?\n",
    "\n",
    "See textbook Chapter3.15"
   ]
  },
  {
   "cell_type": "markdown",
   "metadata": {},
   "source": [
    "_your answer here..._ \n",
    "\n",
    "#### A will always choose the max banknotes and B will always choose the min banknotes. "
   ]
  },
  {
   "cell_type": "markdown",
   "metadata": {},
   "source": [
    "### Programming Excercises"
   ]
  },
  {
   "cell_type": "markdown",
   "metadata": {},
   "source": [
    "1\\.Write a program to solve a classic ancient Chinese puzzle:  \n",
    " We count 35 heads and 94 legs among the chickens and rabbits in a farm. How many rabbits and how many chickens do we have? "
   ]
  },
  {
   "cell_type": "code",
   "execution_count": 1,
   "metadata": {},
   "outputs": [],
   "source": [
    "##Hint:Use for loop to iterate all possible\n",
    "## write your answer here!\n",
    "import random\n",
    "num = random.randint(0,9)\n",
    "guess = int(input(\"guess a single number:\"))\n",
    "while guess != num :\n",
    "    if guess > num :\n",
    "        print(\"Your guess is too large.\")\n",
    "        guess = int(input(\"Try again:\"))\n",
    "    elif guess < num :\n",
    "        print(\"Your guess is too small.\")\n",
    "        guess = int(input(\"Try again:\"))\n",
    "print(\"Win\")"
   ]
  },
  {
   "cell_type": "markdown",
   "metadata": {},
   "source": [
    "2\\. _Social networking_ Please look at the graph below of social relationships. You have a mango farm, you need to find a mango buyer and sell him your mango that you have grown (just a small farm). To this end, our principle is to use our social network of friends separated by one degree, and then second degree friends (friends of friends), third degree friends (friends of friends of friends).\n",
    "\n",
    "Use the depth first algorithm to search your network until you find a mango seller. \n",
    "\n",
    "We make an assumption that if the person's name ends with m, then it means the person must be the mango seller!\n",
    "\n",
    "\n",
    "<img src=\"img/p3.png\" width=\"500\" height=\"400\" >"
   ]
  },
  {
   "cell_type": "code",
   "execution_count": 4,
   "metadata": {},
   "outputs": [],
   "source": [
    "## write your answer here!\n",
    "import  random\n",
    "print(\"there are 3 numbers, please guess what it is.\\nThe clue I give is:\")\n",
    "print(\"When I say:\".ljust(30),\"It means:\")\n",
    "print(\"error\".ljust(30),\"The number are not in the mystical numbers\")\n",
    "print(\"Only the number is correct\".ljust(30),\"The number is right but the position is not right\")\n",
    "print(\"absolutely right\".ljust(30),\"Numbers are right and the position is also right\")\n",
    "\n",
    "def guessnumber():\n",
    "    print(\"There are 3 numbers, you have 10 chance to guess it\")\n",
    "    num = str(random.randint(100,999))\n",
    "    for n in range(10):\n",
    "        guess = (input(\"This is the {} time: \".format(n+1)))\n",
    "        output = []\n",
    "        if guess == num:\n",
    "            print (\"Congratuation!\")\n",
    "            break\n",
    "        for i in range(3):\n",
    "            if num[i] == guess[i]:\n",
    "                output.append(\"Absolutely right\")\n",
    "            else:\n",
    "                if guess[i] in (num[0],num[1],num[2]):\n",
    "                    output.append(\"Only the number is correct\")\n",
    "                else:\n",
    "                    output.append(\"error\")\n",
    "        print(output)\n",
    "    again = input(\"Do you want to play again? (yes or no)\")\n",
    "    if again == \"yes\":\n",
    "        guessnumber()\n",
    "    else:\n",
    "        print(\"Thank you\")\n",
    "\n",
    "\n",
    "guessnumber()"
   ]
  },
  {
   "cell_type": "markdown",
   "metadata": {},
   "source": [
    "3\\. Depth First traverse：Use depth first traversal to traverse all the DLL files on the C disk and output the file names.\n",
    "\n",
    "Update your code to search for a particular filename.\n",
    "\n",
    "What protocol did you use to select the next node to expand on the fringe?"
   ]
  },
  {
   "cell_type": "code",
   "execution_count": null,
   "metadata": {},
   "outputs": [],
   "source": [
    "## write your answer here!\n",
    "import os\n",
    "\n",
    "files = []\n",
    "def dfs_C_disk(path) :\n",
    "    stack = [path]\n",
    "    while stack:\n",
    "        a = stack.pop()\n",
    "        try:\n",
    "            for j in os.listdir(a):\n",
    "                abspath = os.path.join(a, j)\n",
    "                if os.path.isdir(abspath):\n",
    "                    stack.append(abspath)\n",
    "                if os.path.isfile(abspath):\n",
    "                    #if fnmatch.fnmatch(abspath, '.dll'):\n",
    "                    if abspath.endswith(\".dll\"):  \n",
    "                        files.append(abspath)\n",
    "        except:\n",
    "            pass\n",
    "    print(files)\n",
    "\n",
    "dfs_C_disk(\"C:/\")"
   ]
  },
  {
   "cell_type": "markdown",
   "metadata": {},
   "source": [
    "4\\.\n",
    "Breadth First traverse：Use breadth traversal to traverse all the DLL files on the C disk and output the filename.\n",
    "\n",
    "Update your code to search for a particular filename."
   ]
  },
  {
   "cell_type": "code",
   "execution_count": null,
   "metadata": {},
   "outputs": [],
   "source": [
    "## write your answer here!\n",
    "import tkinter\n",
    "\n",
    "class Calculator:\n",
    "\n",
    "    def __init__(self):\n",
    "        self.root = tkinter.Tk()\n",
    "        self.root.title(\"My_Calculator\")\n",
    "        self.result = tkinter.StringVar()\n",
    "        self.root.geometry(\"590x700\")\n",
    "        self.result.set(\"\")\n",
    "        self.equation = \"\"\n",
    "        self.layout()\n",
    "        self.pressed = False\n",
    "        self.root.mainloop()\n",
    "\n",
    "\n",
    "    def layout(self):\n",
    "        self.result.set(\"\")\n",
    "        display = tkinter.Label(self.root, bd=3, bg=\"white\",font = 40, anchor=\"e\", textvariable=self.result )\n",
    "        display.place(x=5,y=20,width=580,height=70)\n",
    "        button_c = tkinter.Button(self.root, text = \"C\", command = lambda: self.result.set(\"\"))\n",
    "        button_c.place(x=5,y=95,width=140,height=100)\n",
    "        button_zf = tkinter.Button(self.root, text =\"±\", command = lambda: self.presszf())\n",
    "        button_zf.place(x=150,y=95, width=140, height=100)\n",
    "        button_del = tkinter.Button(self.root, text='←', command=lambda: self.pressdel())\n",
    "        button_del.place(x=295, y=95, width=140, height=100)\n",
    "        button_ce = tkinter.Button(self.root, text='CE', command=lambda: self.result.set(\"\"))\n",
    "        button_ce.place(x=440, y=95, width=140, height=100)\n",
    "        button_1 = tkinter.Button(self.root, text='1', command=lambda: self.pressnum('1'))\n",
    "        button_1.place(x=5, y=200, width=140, height=100)\n",
    "        button_2 = tkinter.Button(self.root, text='2', command=lambda: self.pressnum('2'))\n",
    "        button_2.place(x=150, y=200, width=140, height=100)\n",
    "        button_3 = tkinter.Button(self.root, text='3', command=lambda: self.pressnum('3'))\n",
    "        button_3.place(x=295, y=200, width=140, height=100)\n",
    "        button_4 = tkinter.Button(self.root, text='4', command=lambda: self.pressnum('4'))\n",
    "        button_4.place(x=440, y=200, width=140, height=100)\n",
    "        button_5 = tkinter.Button(self.root, text='5', command=lambda: self.pressnum('5'))\n",
    "        button_5.place(x=5, y=305, width=140, height=100)\n",
    "        button_6 = tkinter.Button(self.root, text='6', command=lambda: self.pressnum('6'))\n",
    "        button_6.place(x=150, y=305, width=140, height=100)\n",
    "        button_7 = tkinter.Button(self.root, text='7', command=lambda: self.pressnum('7'))\n",
    "        button_7.place(x=295, y=305, width=140, height=100)\n",
    "        button_8 = tkinter.Button(self.root, text='8', command=lambda: self.pressnum('8'))\n",
    "        button_8.place(x=440, y=305, width=140, height=100)\n",
    "        button_dot = tkinter.Button(self.root, text='.', command=lambda: self.pressnum('.'))\n",
    "        button_dot.place(x=5, y=410, width=140, height=100)\n",
    "        button_9 = tkinter.Button(self.root, text='9', command=lambda: self.pressnum('9'))\n",
    "        button_9.place(x=150, y=410, width=140, height=100)\n",
    "        button_0 = tkinter.Button(self.root, text='0', command=lambda: self.pressnum('0'))\n",
    "        button_0.place(x=295, y=410, width=140, height=100)\n",
    "        button_e = tkinter.Button(self.root, text='=', command=lambda: self.pressequal())\n",
    "        button_e.place(x=440, y=410, width=140, height=100)\n",
    "        button_plus = tkinter.Button(self.root, text='+', command=lambda: self.pressnum('+'))\n",
    "        button_plus.place(x=5, y=515, width=140, height=100)\n",
    "        button_minus = tkinter.Button(self.root, text='-', command=lambda: self.pressnum('-'))\n",
    "        button_minus.place(x=150, y=515, width=140, height=100)\n",
    "        button_multiply = tkinter.Button(self.root, text='*', command=lambda: self.pressnum('*'))\n",
    "        button_multiply.place(x=295, y=515, width=140, height=100)\n",
    "        button_divide = tkinter.Button(self.root, text='/', command=lambda: self.pressnum('/'))\n",
    "        button_divide.place(x=440, y=515, width=140, height=100)\n",
    "\n",
    "\n",
    "\n",
    "    def pressnum(self,num):\n",
    "        if self.pressed == True:\n",
    "            self.result.set(\"\")\n",
    "            self.pressed = False\n",
    "        oldnum = self.result.get()\n",
    "        newnum = oldnum + num\n",
    "        self.result.set(newnum)\n",
    "\n",
    "    def presssign(self,sign):\n",
    "        num = self.result.get()\n",
    "        self.result.set(num+sign)\n",
    "\n",
    "    def pressequal(self):\n",
    "        self.equation = self.result.get()\n",
    "        output = eval(self.equation)\n",
    "        self.result.set(output)\n",
    "        self.equation=\"\"\n",
    "        self.pressed = True\n",
    "\n",
    "\n",
    "\n",
    "    def pressdel(self):\n",
    "        if (self.result.get() == \"\"):\n",
    "            pass\n",
    "        else:\n",
    "            lens = len(self.result.get())\n",
    "            if lens == 1:\n",
    "                self.result.set(\"\")\n",
    "            elif lens > 1:\n",
    "                newnum = self.result.get()[0:lens - 1]\n",
    "                self.result.set(newnum)\n",
    "\n",
    "\n",
    "    def presszf(self):\n",
    "        num = self.result.get()\n",
    "        if num == \"\":\n",
    "            pass\n",
    "        else:\n",
    "            if num[0] != \"-\":\n",
    "                self.result.set('-' + num)\n",
    "            else:\n",
    "                self.result.set(num[1:])\n",
    "\n",
    "\n",
    "\n",
    "mycalculator = Calculator()"
   ]
  },
  {
   "cell_type": "markdown",
   "metadata": {},
   "source": [
    "5\\. Uniform cost search"
   ]
  },
  {
   "cell_type": "markdown",
   "metadata": {},
   "source": [
    "Consider a state space where the start state is 2 and each state k has three successors: numbers 2k, 2k+1, 2k+2. The cost from state k to each respective child is k, ground(k/2), k+2.\n",
    "\n",
    "can you implement a uniform-cost-search algorithm with python. The goal state is number 85."
   ]
  },
  {
   "cell_type": "code",
   "execution_count": null,
   "metadata": {},
   "outputs": [],
   "source": [
    "import math\n",
    "\n",
    "def UCS(start, goal):\n",
    "    frontier = [start]\n",
    "    explored = []\n",
    "    cameFrom = {}\n",
    "    dist = {}\n",
    "    dist[start]=0\n",
    "    while frontier:\n",
    "        current_value = 100000\n",
    "        for j in frontier:\n",
    "            if dist[j] < current_value:\n",
    "                current_value = dist[j]\n",
    "                current = j\n",
    "        if current == goal:\n",
    "            route = [current]\n",
    "            cost = str(dist[current])\n",
    "            while current in cameFrom:\n",
    "                current = cameFrom[current]\n",
    "                route.append(current)\n",
    "            route.reverse()\n",
    "            return \"the route is : \" + str(route) + \"\\n\" + \"the cost is : \" + cost\n",
    "        frontier.remove(current)\n",
    "        explored.append(current)\n",
    "        for i in (current*2, current*2+1, current*2+2):\n",
    "            frontier.append(i)\n",
    "\n",
    "        if current*2 in dist:\n",
    "            if dist[current*2] > dist[current]+current:\n",
    "                dist[current*2] = dist[current]+current\n",
    "                cameFrom[current*2] = current\n",
    "        else:\n",
    "            dist[current*2] = dist[current]+current\n",
    "            cameFrom[current*2] = current\n",
    "\n",
    "        if current*2+1 in dist:\n",
    "            if dist[current*2+1] > dist[current]+math.floor(current/2):\n",
    "                dist[current*2+1] = dist[current]+math.floor(current/2)\n",
    "                cameFrom[current*2+1] = current\n",
    "        else:\n",
    "            dist[current*2+1] = dist[current]+math.floor(current/2)\n",
    "            cameFrom[current*2+1] = current\n",
    "\n",
    "        if current*2+2 in dist:\n",
    "            if dist[current*2+2] > dist[current]+current+2:\n",
    "                dist[current*2+2] = dist[current]+current+2\n",
    "                cameFrom[current*2+2] = current\n",
    "        else:\n",
    "            dist[current*2+2] = dist[current]+current+2\n",
    "            cameFrom[current*2+2] = current\n",
    "\n",
    "    return \"Failure\"\n",
    "\n",
    "print(UCS(2, 85))"
   ]
  },
  {
   "cell_type": "markdown",
   "metadata": {},
   "source": [
    "6\\.a* question"
   ]
  },
  {
   "cell_type": "markdown",
   "metadata": {},
   "source": [
    "A cute cat stays in the A position, he is hungry. But the food is placed in the B position. Can you help him to find the food? \n",
    "Hint:  The problem isn't easy. It's essential for you to understand the A* algorithm before you solve this problem. Then, you can use some thought of Node in java, when you are in code.\n",
    "\n",
    "<img src=\"img/p4.png\" width=\"500\" height=\"400\" >\n"
   ]
  },
  {
   "cell_type": "code",
   "execution_count": null,
   "metadata": {},
   "outputs": [],
   "source": [
    "## write your answer here!\n",
    "def A(start, goal):\n",
    "    closedSet = []\n",
    "    openSet = [start]\n",
    "    cameFrom = {}\n",
    "    gScore = {}\n",
    "    gScore[start]=0\n",
    "    gScore[(3,3),(2,3),(1,3)]=10000\n",
    "    fScore = {}\n",
    "    fScore[start] = 4\n",
    "    direction = [(-1,-1),(-1,0),(-1,1),(0,-1),(0,1),(1,-1),(1,0),(1,1)]\n",
    "    while openSet:\n",
    "        current_value = 1000\n",
    "        for j in openSet:\n",
    "            if fScore[j] < current_value:\n",
    "                current_value = fScore[j]\n",
    "                current = j\n",
    "        if current == goal:\n",
    "            route = [current]\n",
    "            while current in cameFrom:\n",
    "                current = cameFrom[current]\n",
    "                route.append(current)\n",
    "            route.reverse()\n",
    "            return route\n",
    "        openSet.remove(current)\n",
    "        closedSet.append(current)\n",
    "        neighbor = []\n",
    "        for i in range(8):\n",
    "            neighbor.append((current[0]+direction[i][0],current[1]+direction[i][1]))\n",
    "        for n in neighbor:\n",
    "            if (n == (3,3))|(n==(2,3))|(n==(1,3))|(n[0]<0)|(n[1]<0)|(n[0]>4)|(n[1]>6):\n",
    "                continue\n",
    "            if n in closedSet:\n",
    "                continue\n",
    "            tentative_gScore = gScore[current] + dist_between(current, n)\n",
    "            if n in openSet:\n",
    "                if tentative_gScore >= gScore[n]:\n",
    "                    continue\n",
    "                cameFrom[n] = current\n",
    "                gScore[n] = tentative_gScore\n",
    "                fScore[n] = gScore[n] + heuristic_cost_estimate(n, goal)\n",
    "            if n not in openSet:\n",
    "                openSet.append(n)\n",
    "                cameFrom[n] = current\n",
    "                gScore[n] = tentative_gScore\n",
    "                fScore[n] = gScore[n] + heuristic_cost_estimate(n, goal)\n",
    "    return \"Failure\"\n",
    "def dist_between(current, n):\n",
    "    return abs(current[0]-n[0])+abs(current[1]-n[1])\n",
    "def heuristic_cost_estimate(n, goal):\n",
    "    return abs(n[0]-goal[0])+abs(goal[1]-n[1])\n",
    "print(A((2,1),(2,5)))"
   ]
  },
  {
   "cell_type": "code",
   "execution_count": null,
   "metadata": {},
   "outputs": [],
   "source": []
  }
 ],
 "metadata": {
  "kernelspec": {
   "display_name": "Python 3",
   "language": "python",
   "name": "python3"
  },
  "language_info": {
   "codemirror_mode": {
    "name": "ipython",
    "version": 3
   },
   "file_extension": ".py",
   "mimetype": "text/x-python",
   "name": "python",
   "nbconvert_exporter": "python",
   "pygments_lexer": "ipython3",
   "version": "3.6.5"
  }
 },
 "nbformat": 4,
 "nbformat_minor": 2
}
