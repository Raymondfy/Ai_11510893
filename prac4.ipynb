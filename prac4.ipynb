{
 "cells": [
  {
   "cell_type": "markdown",
   "metadata": {},
   "source": [
    "# Introduction to Artificial Intelligence for Non Computing"
   ]
  },
  {
   "cell_type": "markdown",
   "metadata": {},
   "source": [
    "## Practical 4 (weeks 7 - 8)"
   ]
  },
  {
   "cell_type": "markdown",
   "metadata": {},
   "source": [
    "#### Theory Questions"
   ]
  },
  {
   "cell_type": "markdown",
   "metadata": {},
   "source": [
    "1\\.Symbolize the following proposition and discuss the truth.\n",
    "1. Everyone has black hair.\n",
    "2. Some people boarded the moon.\n",
    "3. No one has boarded Jupiter\n",
    "4. Students studying in the US are not necessarily Asians."
   ]
  },
  {
   "cell_type": "markdown",
   "metadata": {},
   "source": [
    "_your answer here..._ \n",
    "\n",
    "*** \n",
    " 1.    P(x)⇒B(x) False\n",
    " 2.    ∃x(P(x)⇒B(x)), True\n",
    " 3.    ￢x(P(x)∧B(x)), True\n",
    " 4.    ∃x(S(x)!⇒A(x)), True"
   ]
  },
  {
   "cell_type": "markdown",
   "metadata": {},
   "source": [
    "2\\.Judge the following formula, which is tautology? What is the contradiction?\n",
    "1. ∀xF(x)⇒(∃x∃yG(x,y))⇒∀xF(x))\n",
    "2. ￢( ∀xF(x)⇒∃yG(y))∧∃yG(y)\n",
    "3. ∀x(F(x)⇒G(y))"
   ]
  },
  {
   "cell_type": "markdown",
   "metadata": {},
   "source": [
    "_your answer here..._ \n",
    "\n",
    "*** \n",
    " 1.    tautology : just Replacement instance p⇒(q⇒p)\n",
    " 2.    contradiction: just Replacement instance ￢p⇒(q⇒p)\n",
    " 3.    No conclusion, in some case tautology and some case contradiction"
   ]
  },
  {
   "cell_type": "markdown",
   "metadata": {},
   "source": [
    "3\\.Which of the following are correct?\n",
    "1. False |=True.\n",
    "2. (A ∧ B) |= (A ⇔ B).\n",
    "3. (A ∧ B) ⇒ C |= (A ⇒ C) ∨ (B ⇒ C).\n",
    "4. (A ∨ B) ∧ (￢C ∨￢D ∨ E) |= (A ∨ B).\n",
    "5. (A ∨ B) ∧ (￢C ∨￢D ∨ E) |= (A ∨ B) ∧ (￢D ∨ E)."
   ]
  },
  {
   "cell_type": "markdown",
   "metadata": {},
   "source": [
    "_your answer here..._ \n",
    "\n",
    "***\n",
    " 1.False\n",
    " 2.True\n",
    " 3.True\n",
    " 4.True\n",
    " 5.False"
   ]
  },
  {
   "cell_type": "markdown",
   "metadata": {},
   "source": [
    "4\\.Conjunctive normal form.link:https://baike.baidu.com/item/%E5%90%88%E5%8F%96%E8%8C%83%E5%BC%8F/2459360\n",
    "1. Obtaining conjunctive paradigm: P∧(Q⇒R)⇒S\n",
    "#### Basic steps to find a conjunctive normal form.\n",
    "1. Cut redundant connectives，Reserved {∨，∧，￢}\n",
    "2. Move or remove the negation ~\n",
    "3. distribution rates"
   ]
  },
  {
   "cell_type": "markdown",
   "metadata": {},
   "source": [
    "_your answer here..._ \n",
    "\n",
    "***\n",
    "=(￢P∨S∨Q)∧(￢P∨S∨￢R)"
   ]
  },
  {
   "cell_type": "markdown",
   "metadata": {},
   "source": [
    "5\\.Arithmetic assertions can be written in first-order logic with the predicate symbol <,the function symbols + and ×, and the constant symbols 0 and 1. Additional   predicates can also be defined with biconditionals.(Chapter 8.20)\n",
    "1. Represent the property “x is an even number.”\n",
    "2. Represent the property “x is prime.”\n",
    "3. Goldbach’s conjecture is the conjecture (unproven as yet) that every even number is equal to the sum of two primes. Represent this conjecture as a logical sentence.\n"
   ]
  },
  {
   "cell_type": "markdown",
   "metadata": {},
   "source": [
    "_your answer here..._ \n",
    "\n",
    "***\n",
    "\n",
    " 1.    ∀ x E(x) ⇔ ∃ y x=y + y.\n",
    " 2.    ∀ x P(x) ⇔ ∀ y, z x=y ×z ⇒ y =1 ∨ z =1.\n",
    " 3.    ∀ x E(x) ⇒ ∃ y, z P(y) ∧ P(z) ∧ x=y + z."
   ]
  },
  {
   "cell_type": "markdown",
   "metadata": {},
   "source": [
    "### Programming Excercises"
   ]
  },
  {
   "cell_type": "markdown",
   "metadata": {},
   "source": [
    "1. Take the multiagent folder from assignment 2 and copy into a new directory for this practical. We will implement a version of minimax for Ghost Agents to make very smart ghosts.\n",
    "\n",
    "First look at the file ghostAgents.py. Try to play classic pacman against the directional ghost and the random ghost. Use the following option:\n",
    "\n",
    "\n",
    "-g TYPE, --ghosts=TYPE\n",
    "                        the ghost agent TYPE in the ghostAgents module to use\n",
    "                        [Default: RandomGhost]\n",
    "\n",
    "Now implement a new ghost agent called MinimaxGhost. You will need to create a new class and methods in the file ghostAgent (you can ask the tutor if you need help to create the method stub).\n",
    "\n",
    "\n",
    "This will involve implementing the following methods:\n",
    "\n",
    "---\n",
    "<code>\n",
    "class MinmaxGhost ( GhostAgent ):\n",
    "\n",
    "    def __init__( self, index, ...):\n",
    "\t\t...\n",
    "\t\t\n",
    "\t\t\n",
    "\tdef getAction(self, state):\n",
    "\t\t...\n",
    "\n",
    "\tdef getDistribution(self, state):\n",
    "\t\t...\n",
    "</code>\n",
    "---\t\t\n",
    "\n",
    "\n",
    "To test whether or not you have implemented correctly you will need to compare the behaviour of your new ghost agent with the random ghost agent. This has to be done over multiple tests (e.g. 10 runs).\n",
    "\n",
    "- You can turn off the graphical display to use options -t or -q\n",
    "- You can perform multiple runs (e.g. 10) by setting the -numGames=10\n",
    "- You can fix the random seed as well.\n",
    "\n",
    "Try to use different layouts to test. A simple layout might be good for testing initially as you are developing your algorithm. New layout files can be created in the layout directory (must be saved with end of file name \".lay\"). For example:\n",
    "smallClassic.lay\n",
    "<code>\n",
    "%%%%%%%%%%%%%%%%%%%%\n",
    "%......%G  G%......%\n",
    "%.%%...%%  %%...%%.%\n",
    "%.%o.%........%.o%.%\n",
    "%.%%.%.%%%%%%.%.%%.%\n",
    "%........P.........%\n",
    "%%%%%%%%%%%%%%%%%%%%\n",
    "</code>\n",
    "newLayout.lay:\n",
    "<code>\n",
    "%%%%%%%\n",
    "% %G% %\n",
    "% % % %\n",
    "% % % %\n",
    "%%%P%%%\n",
    "%     %\n",
    "% %%% %\n",
    "% % % %\n",
    "% % % %\n",
    "% %%% %\n",
    "%  .  %\n",
    "%%%G%%%\n",
    "%%%%%%%\n",
    "</code>\n",
    "\n",
    "Please try to make some different layouts such as in this example,(the ghosts are marked by G, walls by % and pacman starting position by P,\".\" for pellet)\n",
    "<div style=\"float:center;\" ><img src=\"img/p2.png\" width=\"200\" height=\"50\" ></div>\n",
    "\n",
    "---\n",
    "\n",
    "2\\. \n",
    "In this question we will test the new ghostAgent with different pacman agents. In your assignment you were asked to complete a Minimax pacman a version of Expectimax for pacman was provided. If you have not completed the assignment just use the provided expectimax version.\n",
    "\n",
    "We will perform some experiments to compare the performance of pacman against different types of ghost agent:\n",
    "- a random (not smart) ghost vs a pacman that assumes optimal play from ghosts (ie minimax pacman).\n",
    "- a smart (minmax) ghost vs a pacman that assumes optimal play from ghosts\n",
    "- random ghosts vs pacman that assumes ghosts may not always do an optimal move\n",
    "- smart (minimax) ghosts vs pacman that assumes that ghosts may do suboptimal moves.\n",
    "\n",
    "\n",
    "This will result in a table similar to the following:\n",
    "\n",
    "<div style=\"float:center;\" ><img src=\"img/p1.png\" width=\"400\" height=\"300\" ></div>\n",
    "\n",
    "\n",
    "   \n",
    "3\\.\n",
    "Describe the performance (in terms of the distribution) of Pacman in each case.\n",
    "\n",
    "In which cases is the Pacman agent implementing the correct assumption of the ghosts behaviour?\n",
    "\n",
    "\n",
    "4\\. Describe why the ghosts seem as if they are cooperating when using minimax even though they are not sharing information with each other.\n",
    "\n",
    "\n",
    "\n",
    "\n",
    "\n"
   ]
  },
  {
   "cell_type": "markdown",
   "metadata": {},
   "source": [
    "## Question 1\n",
    "class MinimaxGhost(GhostAgent):\n",
    "\n",
    "    \"\"\"\n",
    "      Your minimax agent (question 1)\n",
    "\n",
    "      useage: python2 pacman.py -p ExpectimaxAgent -l specialNew -g MinimaxGhost -a depth=4\n",
    "              python2 pacman.py -l specialNew -g MinimaxGhost\n",
    "\n",
    "    \"\"\"\n",
    "    \"*** YOUR CODE HERE ***\"\n",
    "\n",
    "    def __init__(self, index, Fn = 'betterEvaluationFunctionGhost', depth = '2'):\n",
    "        self.index = index\n",
    "        self.evaluationFunction = util.lookup(Fn, globals())\n",
    "        self.depth = int(depth)\n",
    "\n",
    "    def getAction(self, state):\n",
    "        root_value = self.value(state,0,self.index)\n",
    "        action = root_value[1]\n",
    "        return action\n",
    "\n",
    "    def value(self,state,CurrentDepth,index):\n",
    "        if index == state.getNumAgents():\n",
    "            CurrentDepth = CurrentDepth + 1\n",
    "            index = 0\n",
    "        actions = state.getLegalActions(index)\n",
    "        if len(actions) == 0 or CurrentDepth == self.depth:\n",
    "            newvalue = self.evaluationFunction(state)\n",
    "            return [newvalue]\n",
    "        if index == 0:\n",
    "            return self.max(state,CurrentDepth,index)\n",
    "        else:\n",
    "            return self.min(state,CurrentDepth,index)\n",
    "\n",
    "    def max(self,gameState,depth,index):\n",
    "        node = [-float(\"inf\")]\n",
    "        actions = gameState.getLegalActions(index)\n",
    "        for action in actions:\n",
    "            successor = gameState.generateSuccessor(index, action)\n",
    "            value = self.value(successor, depth, index + 1)[0]\n",
    "            if (value >= node[0]):\n",
    "                node = [value,action]\n",
    "        return node[0],node[1]\n",
    "\n",
    "    def min(self,gameState,CurrentDepth,index):\n",
    "        node = [float(\"inf\")]\n",
    "        actions = gameState.getLegalActions(index)\n",
    "        for action in actions:\n",
    "            successor = gameState.generateSuccessor(index, action)\n",
    "            value = self.value(successor, CurrentDepth, index + 1)[0]\n",
    "            if (value <= node[0]):\n",
    "                node = [value,action]\n",
    "        return node[0], node[1]\n",
    "\n",
    "\n",
    "     def betterEvaluationFunctionGhost(state):\n",
    "    \"\"\"\n",
    "        Ghost evaluation function\n",
    "    \"\"\"\n",
    "    foodscore = 0\n",
    "    pos = state.getPacmanPosition()\n",
    "    foodlist = state.getFood().asList()\n",
    "    fooddistance = [manhattanDistance(pos, food) for food in foodlist]\n",
    "    if len(fooddistance):\n",
    "        foodscore += 5/min(fooddistance)\n",
    "\n",
    "    ghostscore = 0\n",
    "    newGhostStates = state.getGhostStates()\n",
    "    ghostdistance = [manhattanDistance(pos, ghost.getPosition()) for ghost in newGhostStates]\n",
    "    newScaredTimes = [ghostState.scaredTimer for ghostState in newGhostStates]\n",
    "    min_ghostdistance = min(ghostdistance)\n",
    "    if min_ghostdistance > 0:\n",
    "        if newScaredTimes[0] == 0:\n",
    "            ghostscore -= 2/min_ghostdistance\n",
    "        else:\n",
    "            ghostscore += 2/min_ghostdistance\n",
    "\n",
    "    myscore = foodscore + ghostscore\n",
    "\n",
    "    score = state.getScore() + myscore\n",
    "    return score\n",
    "\n",
    "## Question 2\n",
    "                #New.lay\n",
    "                %%%%%%%%%%%%%%%%%%%%%%%%%%%%%%%%%%%%%%\n",
    "                %.......G  G.........%%%%%%%.........%\n",
    "                %.%%...%%  %%.....%%......%%.%%%.%%%.%\n",
    "                %.%o.%........%.o%....%%.....%....%%.%\n",
    "                %.%%.%.%%..%%.%...%%......%%.%%%.%%%.%\n",
    "                %........P...........%%%%%%%.........%\n",
    "                %%%%%%%%%%%%%%%%%%%%%%%%%%%%%%%%%%%%%%\n",
    "\n",
    "\n",
    "\n",
    "## Question 3\n",
    "*** \n",
    "MiniMax pacman vs. Adversarial ghost\n",
    "\n",
    "\n",
    "## Question 4\n",
    "***\n",
    "Because each movement of one ghost will affect the Minimax tree of another ghost and further affecting its movement.\n",
    "Therefore, ghosts seem as if they are cooperating when hunting a pacman with Minimax Ghost agent."
   ]
  },
  {
   "cell_type": "code",
   "execution_count": null,
   "metadata": {},
   "outputs": [],
   "source": []
  }
 ],
 "metadata": {
  "kernelspec": {
   "display_name": "Python 3",
   "language": "python",
   "name": "python3"
  },
  "language_info": {
   "codemirror_mode": {
    "name": "ipython",
    "version": 3
   },
   "file_extension": ".py",
   "mimetype": "text/x-python",
   "name": "python",
   "nbconvert_exporter": "python",
   "pygments_lexer": "ipython3",
   "version": "3.6.5"
  }
 },
 "nbformat": 4,
 "nbformat_minor": 2
}
